{
 "cells": [
  {
   "cell_type": "code",
   "execution_count": 3,
   "id": "87211c21",
   "metadata": {},
   "outputs": [
    {
     "name": "stdout",
     "output_type": "stream",
     "text": [
      "[('xxxx', 863), ('credit', 504), ('consumer', 170), ('information', 138), ('account', 129), ('report', 114), ('company', 104), ('services', 91), ('debt', 88), ('reporting', 85), ('card', 82), ('law', 77), ('refund', 75), ('financial', 73), ('act', 73), ('loan', 73), ('without', 68), ('also', 66), ('score', 63), ('would', 63)]\n"
     ]
    },
    {
     "name": "stderr",
     "output_type": "stream",
     "text": [
      "[nltk_data] Downloading package punkt to\n",
      "[nltk_data]     /Users/xiaojingzhang/nltk_data...\n",
      "[nltk_data]   Package punkt is already up-to-date!\n",
      "[nltk_data] Downloading package stopwords to\n",
      "[nltk_data]     /Users/xiaojingzhang/nltk_data...\n",
      "[nltk_data]   Package stopwords is already up-to-date!\n"
     ]
    }
   ],
   "source": [
    "### Find domain terms\n",
    "import pandas as pd\n",
    "from nltk.tokenize import word_tokenize\n",
    "from nltk.corpus import stopwords\n",
    "from collections import Counter\n",
    "import nltk\n",
    "\n",
    "# Ensure required NLTK packages are downloaded\n",
    "nltk.download('punkt')\n",
    "nltk.download('stopwords')\n",
    "\n",
    "def find_frequent_terms(file_path):\n",
    "    # Load the data from the Excel file\n",
    "    data = pd.read_excel(file_path)\n",
    "\n",
    "    # Filter narratives with label 1\n",
    "    label_1_narratives = data[data['Label'] == 1]['Consumer complaint narrative']\n",
    "\n",
    "    # Tokenize and count words\n",
    "    stop_words = set(stopwords.words('english'))\n",
    "    words = []\n",
    "    for narrative in label_1_narratives:\n",
    "        # Tokenize and remove stopwords\n",
    "        tokens = word_tokenize(narrative.lower())\n",
    "        words.extend([word for word in tokens if word.isalpha() and word not in stop_words])\n",
    "\n",
    "    # Count the frequency of each word\n",
    "    word_freq = Counter(words)\n",
    "\n",
    "    # Get the most common words\n",
    "    common_words = word_freq.most_common(20)\n",
    "    \n",
    "    return common_words\n",
    "\n",
    "# Provide the path to your Excel file\n",
    "file_path = 'Complaints-official-2-classes.xlsx'\n",
    "frequent_terms = find_frequent_terms(file_path)\n",
    "print(frequent_terms)"
   ]
  },
  {
   "cell_type": "code",
   "execution_count": 9,
   "id": "a030ba69",
   "metadata": {},
   "outputs": [
    {
     "name": "stdout",
     "output_type": "stream",
     "text": [
      "[('xxxx', 523), ('credit', 243), ('consumer', 135), ('information', 107), ('reporting', 72), ('account', 70), ('act', 67), ('report', 66), ('law', 50), ('without', 46), ('unauthorized', 44), ('services', 43), ('card', 41), ('refund', 41), ('also', 40), ('section', 39), ('financial', 37), ('fair', 37), ('usc', 35), ('rights', 35)]\n"
     ]
    },
    {
     "name": "stderr",
     "output_type": "stream",
     "text": [
      "[nltk_data] Downloading package punkt to\n",
      "[nltk_data]     /Users/xiaojingzhang/nltk_data...\n",
      "[nltk_data]   Package punkt is already up-to-date!\n",
      "[nltk_data] Downloading package stopwords to\n",
      "[nltk_data]     /Users/xiaojingzhang/nltk_data...\n",
      "[nltk_data]   Package stopwords is already up-to-date!\n"
     ]
    }
   ],
   "source": [
    "### Find domain terms\n",
    "import pandas as pd\n",
    "from nltk.tokenize import word_tokenize\n",
    "from nltk.corpus import stopwords\n",
    "from collections import Counter\n",
    "import nltk\n",
    "\n",
    "# Ensure required NLTK packages are downloaded\n",
    "nltk.download('punkt')\n",
    "nltk.download('stopwords')\n",
    "\n",
    "def find_frequent_terms(file_path):\n",
    "    # Load the data from the Excel file\n",
    "    data = pd.read_excel(file_path)\n",
    "\n",
    "    # Filter narratives with label 1\n",
    "    # label_0_narratives = data[data['Label'] == 0]['Consumer complaint narrative']\n",
    "    # label_1_narratives = data[data['Label'] == 1]['Consumer complaint narrative']\n",
    "    # label_2_narratives = data[data['Label'] == 2]['Consumer complaint narrative']\n",
    "    label_3_narratives = data[data['Label'] == 3]['Consumer complaint narrative']\n",
    "\n",
    "    # Tokenize and count words\n",
    "    stop_words = set(stopwords.words('english'))\n",
    "    words = []\n",
    "    for narrative in label_3_narratives:\n",
    "        # Tokenize and remove stopwords\n",
    "        tokens = word_tokenize(narrative.lower())\n",
    "        words.extend([word for word in tokens if word.isalpha() and word not in stop_words])\n",
    "\n",
    "    # Count the frequency of each word\n",
    "    word_freq = Counter(words)\n",
    "\n",
    "    # Get the most common words\n",
    "    common_words = word_freq.most_common(20)\n",
    "    \n",
    "    return common_words\n",
    "\n",
    "# Provide the path to your Excel file\n",
    "file_path = 'Complaints-official-4-classes.xlsx'\n",
    "frequent_terms = find_frequent_terms(file_path)\n",
    "print(frequent_terms)"
   ]
  },
  {
   "cell_type": "code",
   "execution_count": 1,
   "id": "ace60137",
   "metadata": {},
   "outputs": [
    {
     "name": "stdout",
     "output_type": "stream",
     "text": [
      "The average length per complaint is: 1206.711009174312\n"
     ]
    }
   ],
   "source": [
    "import pandas as pd\n",
    "\n",
    "# Load the Excel file\n",
    "file_path = 'Complaints-official-2-classes.xlsx'\n",
    "df = pd.read_excel(file_path)\n",
    "\n",
    "# Calculate the average length of each complaint narrative by counting the characters in each one\n",
    "average_length_per_complaint = df['Consumer complaint narrative'].apply(len).mean()\n",
    "\n",
    "# Print the average length\n",
    "print(f'The average length per complaint is: {average_length_per_complaint}')"
   ]
  },
  {
   "cell_type": "code",
   "execution_count": 2,
   "id": "5521211a",
   "metadata": {},
   "outputs": [
    {
     "name": "stdout",
     "output_type": "stream",
     "text": [
      "The average length per complaint is: 1210.709090909091\n"
     ]
    }
   ],
   "source": [
    "import pandas as pd\n",
    "\n",
    "# Load the Excel file\n",
    "file_path = 'Complaints-official-4-classes.xlsx'\n",
    "df = pd.read_excel(file_path)\n",
    "\n",
    "# Calculate the average length of each complaint narrative by counting the characters in each one\n",
    "average_length_per_complaint = df['Consumer complaint narrative'].apply(len).mean()\n",
    "\n",
    "# Print the average length\n",
    "print(f'The average length per complaint is: {average_length_per_complaint}')"
   ]
  },
  {
   "cell_type": "code",
   "execution_count": 3,
   "id": "065449d6",
   "metadata": {},
   "outputs": [
    {
     "data": {
      "text/plain": [
       "211.60550458715596"
      ]
     },
     "execution_count": 3,
     "metadata": {},
     "output_type": "execute_result"
    }
   ],
   "source": [
    "import pandas as pd\n",
    "\n",
    "# Load the Excel file\n",
    "file_path = 'Complaints-official-2-classes.xlsx'\n",
    "df = pd.read_excel(file_path)\n",
    "\n",
    "# Calculate the average length of each complaint narrative by counting the characters in each one\n",
    "average_length_per_complaint = df['Consumer complaint narrative'].apply(len).mean()\n",
    "\n",
    "# Print the average length\n",
    "# Calculate the average length of each complaint narrative by counting the words in each one\n",
    "average_length_per_complaint_by_word = df['Consumer complaint narrative'].apply(lambda x: len(x.split())).mean()\n",
    "\n",
    "average_length_per_complaint_by_word"
   ]
  },
  {
   "cell_type": "code",
   "execution_count": 4,
   "id": "5c1f6b88",
   "metadata": {},
   "outputs": [
    {
     "data": {
      "text/plain": [
       "212.1"
      ]
     },
     "execution_count": 4,
     "metadata": {},
     "output_type": "execute_result"
    }
   ],
   "source": [
    "import pandas as pd\n",
    "\n",
    "# Load the Excel file\n",
    "file_path = 'Complaints-official-4-classes.xlsx'\n",
    "df = pd.read_excel(file_path)\n",
    "\n",
    "# Calculate the average length of each complaint narrative by counting the characters in each one\n",
    "average_length_per_complaint = df['Consumer complaint narrative'].apply(len).mean()\n",
    "\n",
    "# Print the average length\n",
    "# Calculate the average length of each complaint narrative by counting the words in each one\n",
    "average_length_per_complaint_by_word = df['Consumer complaint narrative'].apply(lambda x: len(x.split())).mean()\n",
    "\n",
    "average_length_per_complaint_by_word"
   ]
  },
  {
   "cell_type": "code",
   "execution_count": null,
   "id": "a7cecc8b",
   "metadata": {},
   "outputs": [],
   "source": []
  }
 ],
 "metadata": {
  "kernelspec": {
   "display_name": "Python 3 (ipykernel)",
   "language": "python",
   "name": "python3"
  },
  "language_info": {
   "codemirror_mode": {
    "name": "ipython",
    "version": 3
   },
   "file_extension": ".py",
   "mimetype": "text/x-python",
   "name": "python",
   "nbconvert_exporter": "python",
   "pygments_lexer": "ipython3",
   "version": "3.11.4"
  }
 },
 "nbformat": 4,
 "nbformat_minor": 5
}
